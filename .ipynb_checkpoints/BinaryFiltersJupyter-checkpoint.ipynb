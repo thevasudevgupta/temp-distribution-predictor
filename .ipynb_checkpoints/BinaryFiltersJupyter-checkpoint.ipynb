{
 "cells": [
  {
   "cell_type": "code",
   "execution_count": 1,
   "metadata": {
    "collapsed": true
   },
   "outputs": [],
   "source": [
    "%matplotlib inline\n",
    "import sys\n",
    "import numpy as np\n",
    "np.set_printoptions(threshold = sys.maxsize)\n",
    "\n",
    "import matplotlib.pyplot as plt\n",
    "import seaborn as sns"
   ]
  },
  {
   "cell_type": "code",
   "execution_count": 4,
   "metadata": {},
   "outputs": [
    {
     "data": {
      "text/plain": [
       "Text(0.5,1,'Configuration 1')"
      ]
     },
     "execution_count": 4,
     "metadata": {},
     "output_type": "execute_result"
    },
    {
     "data": {
      "image/png": "[encoded data removed]",
      "text/plain": [
       "<Figure size 720x720 with 1 Axes>"
      ]
     },
     "metadata": {},
     "output_type": "display_data"
    }
   ],
   "source": [
    "c1_bin = np.zeros((51,51))\n",
    "# Temperature Boundary Condition\n",
    "c1_bin[:, 0] = 1\n",
    "# Temperature Sensor Measurements\n",
    "c1_bin[5, 15:50:10] = 1\n",
    "c1_bin[15, 25:50:10] = 1\n",
    "c1_bin[25, 35:50:10] = 1\n",
    "c1_bin[35, 45] = 1\n",
    "# print(c1_bin)\n",
    "# np.count_nonzero(c1_bin)\n",
    "fig1 = plt.figure(figsize=(10,10))\n",
    "sns.heatmap(c1_bin, cmap='binary', square=True, cbar=False, linecolor='black', linewidth=.02)\n",
    "plt.title('Configuration 1', size = 20)\n",
    "# plt.show()\n",
    "# fig1.savefig('Config1_BinaryFilter')\n",
    "# print(c1_bin)"
   ]
  },
  {
   "cell_type": "code",
   "execution_count": 3,
   "metadata": {
    "collapsed": true
   },
   "outputs": [],
   "source": [
    "c2_bin = np.zeros((51,51))\n",
    "# Temperature Boundary Condition\n",
    "c2_bin[:, 0] = 1\n",
    "# Temperature Sensor Measurements\n",
    "c2_bin[10::15, 45] = 1\n",
    "c2_bin[10::15, 35] = 1\n",
    "c2_bin[10::15, 25] = 1\n",
    "c2_bin[25, 15] = 1\n",
    "# print(c2_bin)\n",
    "# np.count_nonzero(c2_bin)\n",
    "# fig2 = plt.figure(figsize=(10,10))\n",
    "# sns.heatmap(c2_bin, cmap='binary', square=True, cbar=False, linecolor='black', linewidth=.02)\n",
    "# plt.title('Configuration 2', size = 20)\n",
    "# plt.show()\n",
    "# fig2.savefig('Config2_BinaryFilter')"
   ]
  },
  {
   "cell_type": "code",
   "execution_count": 4,
   "metadata": {
    "collapsed": true
   },
   "outputs": [],
   "source": [
    "c3_bin = np.zeros((51, 51))\n",
    "# Temperature Boundary Condition\n",
    "c3_bin[:, 0] = 1\n",
    "c3_bin[-1, :] = 1\n",
    "# Temperature Sensor Measurements\n",
    "c3_bin[5, 15:50:10] = 1\n",
    "c3_bin[15, 25:50:10] = 1\n",
    "c3_bin[25, 35:50:10] = 1\n",
    "c3_bin[35, 45] = 1\n",
    "# print(c3_bin)\n",
    "# np.count_nonzero(c3_bin)\n",
    "# fig3 = plt.figure(figsize=(10,10))\n",
    "# sns.heatmap(c3_bin, cmap='binary', square=True, cbar=False, linecolor='black', linewidth=.02)\n",
    "# plt.title('Configuration 3', size = 20)\n",
    "# plt.show()\n",
    "# fig3.savefig('Config3_BinaryFilter')"
   ]
  },
  {
   "cell_type": "code",
   "execution_count": 5,
   "metadata": {
    "collapsed": true
   },
   "outputs": [],
   "source": [
    "c4_bin = np.zeros((51,51))\n",
    "# Temperature Boundary Condition\n",
    "c4_bin[:, [0, -1]] = 1\n",
    "# Temperature Sensor Measurements\n",
    "c4_bin[2, 9:42:8] = 1\n",
    "c4_bin[10, 13:38:12] = 1\n",
    "c4_bin[20, [20, 30]] = 1\n",
    "# print(c4_bin)\n",
    "# np.count_nonzero(c4_bin)\n",
    "# fig4 = plt.figure(figsize=(10,10))\n",
    "# sns.heatmap(c4_bin, cmap='binary', square=True, cbar=False, linecolor='black', linewidth=.02)\n",
    "# plt.title('Configuration 4', size = 20)\n",
    "# plt.show()\n",
    "# fig4.savefig('Config4_BinaryFilter')"
   ]
  },
  {
   "cell_type": "code",
   "execution_count": 6,
   "metadata": {
    "collapsed": true
   },
   "outputs": [],
   "source": [
    "c5_bin = np.zeros((51, 51))\n",
    "# Temperature Boundary Condition\n",
    "c5_bin[:, 0] = 1\n",
    "# Temperature Sensor Measurements\n",
    "c5_bin[10:21:10, 25::10] = 1\n",
    "c5_bin[30:50:10, 30:50:10] = 1\n",
    "# print(c5_bin)\n",
    "# np.count_nonzero(c5_bin)\n",
    "# fig5 = plt.figure(figsize=(10,10))\n",
    "# sns.heatmap(c5_bin, cmap='binary', square=True, cbar=False, linecolor='black', linewidth=.02)\n",
    "# plt.title('Configuration 5', size = 20)\n",
    "# plt.show()\n",
    "# fig5.savefig('Config5_BinaryFilter')"
   ]
  },
  {
   "cell_type": "code",
   "execution_count": 7,
   "metadata": {
    "collapsed": true
   },
   "outputs": [],
   "source": [
    "c6_bin = np.zeros((51, 51))\n",
    "# Temperature Boundary  Condition\n",
    "c6_bin[:, 0] = 1\n",
    "# Temperature Sensor Measurements\n",
    "c6_bin[10:50:10, 45] = 1\n",
    "c6_bin[15:45:10, 35] = 1\n",
    "c6_bin[[20, 30], 25] = 1\n",
    "c6_bin[25, 15] = 1\n",
    "# print(c6_bin)\n",
    "# np.count_nonzero(c6_bin)\n",
    "# fig6 = plt.figure(figsize=(10,10))\n",
    "# sns.heatmap(c6_bin, cmap='binary', square=True, cbar=False, linecolor='black', linewidth=.02)\n",
    "# plt.title('Configuration 6', size = 20)\n",
    "# plt.show()\n",
    "# fig6.savefig('Config6_BinaryFilter')"
   ]
  },
  {
   "cell_type": "code",
   "execution_count": 8,
   "metadata": {
    "collapsed": true
   },
   "outputs": [],
   "source": [
    "c7_bin = np.zeros((51, 51))\n",
    "# Temperature Boundary Condtion\n",
    "c7_bin[:,[0, -1]] = 1\n",
    "# Temperature Sensor Measurements\n",
    "c7_bin[2, 15:45:10] = 1\n",
    "c7_bin[12, [20, 30]] = 1\n",
    "c7_bin[38, [20, 30]] = 1\n",
    "c7_bin[48, 15:45:10] = 1\n",
    "# print(c7_bin)\n",
    "# np.count_nonzero(c7_bin)\n",
    "# fig7 = plt.figure(figsize=(10,10))\n",
    "# sns.heatmap(c7_bin, cmap='binary', square=True, cbar=False, linecolor='black', linewidth=.02)\n",
    "# plt.title('Configuration 7', size = 20)\n",
    "# plt.show()\n",
    "# fig7.savefig('Config7_BinaryFilter')"
   ]
  },
  {
   "cell_type": "code",
   "execution_count": 9,
   "metadata": {
    "collapsed": true
   },
   "outputs": [],
   "source": [
    "c8_bin = np.zeros((51, 51))\n",
    "# Temperature Boundary Condition\n",
    "c8_bin[:, 0] = 1\n",
    "c8_bin[-1, :] = 1\n",
    "# Temperature Sensor Measurements\n",
    "c8_bin[5, 15:50:10] = 1\n",
    "c8_bin[15, 25:50:10] = 1\n",
    "c8_bin[25, 35:50:10] = 1\n",
    "c8_bin[35, 45] = 1\n",
    "# print(c8_bin)\n",
    "# np.count_nonzero(c8_bin)\n",
    "# fig8 = plt.figure(figsize=(10,10))\n",
    "# sns.heatmap(c8_bin, cmap='binary', square=True, cbar=False, linecolor='black', linewidth=.02)\n",
    "# plt.title('Configuration 8', size = 20)\n",
    "# plt.show()\n",
    "# fig8.savefig('Config8_BinaryFilter')"
   ]
  },
  {
   "cell_type": "code",
   "execution_count": 10,
   "metadata": {
    "collapsed": true
   },
   "outputs": [],
   "source": [
    "c9_bin = np.zeros((51, 51))\n",
    "# Temperature Boundary Condition\n",
    "c9_bin[:, [0, -1]] = 1\n",
    "c9_bin[-1, :] = 1\n",
    "# Temperature Sensor Measurements\n",
    "c9_bin[2, 10:50:10] = 1\n",
    "c9_bin[10, 15:45:10] = 1\n",
    "c9_bin[18, [20, 30]] = 1\n",
    "c9_bin[25, 25] = 1\n",
    "# print(c9_bin)\n",
    "# np.count_nonzero(c9_bin)\n",
    "# fig9 = plt.figure(figsize=(10,10))\n",
    "# sns.heatmap(c9_bin, cmap='binary', square=True, cbar=False, linecolor='black', linewidth=.02)\n",
    "# plt.title('Configuration 9', size = 20)\n",
    "# plt.show()\n",
    "# fig9.savefig('Config9_BinaryFilter')"
   ]
  },
  {
   "cell_type": "code",
   "execution_count": 11,
   "metadata": {
    "collapsed": true
   },
   "outputs": [],
   "source": [
    "c10_bin = np.zeros((51, 51))\n",
    "# Temperature Boundary Condition\n",
    "c10_bin[:, 0] = 1\n",
    "# Temperature Sensor Measurments\n",
    "c10_bin[5::20, 45] = 1\n",
    "c10_bin[15:45:10, 35] = 1\n",
    "c10_bin[[17, 33], 25] = 1\n",
    "c10_bin[[20, 30], 15] = 1\n",
    "# print(c10_bin)\n",
    "# np.count_nonzero(c10_bin)\n",
    "# fig10 = plt.figure(figsize=(10,10))\n",
    "# sns.heatmap(c10_bin, cmap='binary', square=True, cbar=False, linecolor='black', linewidth=.02)\n",
    "# plt.title('Configuration 10', size = 20)\n",
    "# plt.show()\n",
    "# fig10.savefig('Config10_BinaryFilter')"
   ]
  }
 ],
 "metadata": {
  "kernelspec": {
   "display_name": "Python 3",
   "language": "python",
   "name": "python3"
  },
  "language_info": {
   "codemirror_mode": {
    "name": "ipython",
    "version": 3
   },
   "file_extension": ".py",
   "mimetype": "text/x-python",
   "name": "python",
   "nbconvert_exporter": "python",
   "pygments_lexer": "ipython3",
   "version": "3.5.4"
  }
 },
 "nbformat": 4,
 "nbformat_minor": 4
}
